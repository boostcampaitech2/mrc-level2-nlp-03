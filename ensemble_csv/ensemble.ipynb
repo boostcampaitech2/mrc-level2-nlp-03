{
  "nbformat": 4,
  "nbformat_minor": 5,
  "metadata": {
    "kernelspec": {
      "display_name": "Python 3 (ipykernel)",
      "language": "python",
      "name": "python3"
    },
    "language_info": {
      "codemirror_mode": {
        "name": "ipython",
        "version": 3
      },
      "file_extension": ".py",
      "mimetype": "text/x-python",
      "name": "python",
      "nbconvert_exporter": "python",
      "pygments_lexer": "ipython3",
      "version": "3.8.5"
    },
    "colab": {
      "name": "ensemble.ipynb",
      "provenance": [],
      "collapsed_sections": []
    }
  },
  "cells": [
    {
      "cell_type": "code",
      "metadata": {
        "id": "33aeaf34-93d1-471a-b673-fce3e145cd1f"
      },
      "source": [
        "import pandas as pd"
      ],
      "id": "33aeaf34-93d1-471a-b673-fce3e145cd1f",
      "execution_count": 37,
      "outputs": []
    },
    {
      "cell_type": "code",
      "metadata": {
        "id": "801386df-1a69-4711-850a-8c38b87322e2"
      },
      "source": [
        "import csv"
      ],
      "id": "801386df-1a69-4711-850a-8c38b87322e2",
      "execution_count": 38,
      "outputs": []
    },
    {
      "cell_type": "code",
      "metadata": {
        "id": "3fac6a29-2bcf-4940-af01-f949e6dd603a"
      },
      "source": [
        "# file_paths = ['output1.csv', 'output2.csv', 'output3.csv', 'output4.csv']\n",
        "file_paths = ['roberta_cnn__batch_16__BM25__topk_5.csv', 'roberta_cnn__batch_8__BM25__topk_5.csv', 'klue-bert-base__BM25__topk_8.csv', 'klue-bert-base__dpr_train__topk_5.csv']"
      ],
      "id": "3fac6a29-2bcf-4940-af01-f949e6dd603a",
      "execution_count": 39,
      "outputs": []
    },
    {
      "cell_type": "code",
      "metadata": {
        "id": "615dba60-abcd-4683-b48e-fd778bd6f9bc"
      },
      "source": [
        "questions = []\n",
        "answers = []"
      ],
      "id": "615dba60-abcd-4683-b48e-fd778bd6f9bc",
      "execution_count": 40,
      "outputs": []
    },
    {
      "cell_type": "code",
      "metadata": {
        "id": "6bcaea30-e2c9-4a5f-8d75-e410417a5c19"
      },
      "source": [
        "for i in range(len(file_paths)):\n",
        "    f = open(file_paths[i], 'r')\n",
        "    csv_reader = csv.reader(f, delimiter = \"\\n\")\n",
        "    question = []\n",
        "    answer = []\n",
        "    for line in csv_reader:\n",
        "        temp = line[0].split(':')\n",
        "        if len(temp) == 1:\n",
        "            continue\n",
        "        elif len(temp) == 2:\n",
        "            q = temp[0]\n",
        "            a = temp[1]\n",
        "        elif len(temp)>2:\n",
        "            q = temp[0]\n",
        "            a = \"\".join(temp[1:])\n",
        "        else:\n",
        "            raise ValueError(\"line is NULL\")\n",
        "\n",
        "        q = q.strip()\n",
        "        a = a.strip()\n",
        "        q = q[1:-1]\n",
        "        a = a[1:-2]\n",
        "        \n",
        "        question.append(q)\n",
        "        answer.append(a)\n",
        "        \n",
        "    questions.append(question)\n",
        "    answers.append(answer)\n",
        "    f.close()"
      ],
      "id": "6bcaea30-e2c9-4a5f-8d75-e410417a5c19",
      "execution_count": 41,
      "outputs": []
    },
    {
      "cell_type": "code",
      "metadata": {
        "colab": {
          "base_uri": "https://localhost:8080/"
        },
        "id": "c6368581-70ea-43e7-848a-99d7c70aa5b0",
        "outputId": "42a00b1c-6a50-438d-c1e6-9cbc4016524b"
      },
      "source": [
        "print(len(questions))"
      ],
      "id": "c6368581-70ea-43e7-848a-99d7c70aa5b0",
      "execution_count": 42,
      "outputs": [
        {
          "output_type": "stream",
          "name": "stdout",
          "text": [
            "4\n"
          ]
        }
      ]
    },
    {
      "cell_type": "code",
      "metadata": {
        "colab": {
          "base_uri": "https://localhost:8080/"
        },
        "id": "4cd73388-4089-4ffd-a316-c02d0f1123b1",
        "outputId": "8b3d0224-e93d-43db-b999-b3062d270938"
      },
      "source": [
        "print(len(questions[2]))"
      ],
      "id": "4cd73388-4089-4ffd-a316-c02d0f1123b1",
      "execution_count": 43,
      "outputs": [
        {
          "output_type": "stream",
          "name": "stdout",
          "text": [
            "600\n"
          ]
        }
      ]
    },
    {
      "cell_type": "code",
      "metadata": {
        "colab": {
          "base_uri": "https://localhost:8080/"
        },
        "id": "b6c726d0-dc43-4206-b8b3-4d4043dc5152",
        "outputId": "34316d99-9c0d-4241-add4-5be84a34db3e"
      },
      "source": [
        "print(len(answers[2]))"
      ],
      "id": "b6c726d0-dc43-4206-b8b3-4d4043dc5152",
      "execution_count": 44,
      "outputs": [
        {
          "output_type": "stream",
          "name": "stdout",
          "text": [
            "600\n"
          ]
        }
      ]
    },
    {
      "cell_type": "code",
      "metadata": {
        "colab": {
          "base_uri": "https://localhost:8080/"
        },
        "id": "eb819fea-d542-4f08-a8dc-a40312bc0d6f",
        "outputId": "c6dbb1a3-550c-408d-f8b4-3555b2e327f7"
      },
      "source": [
        "print(len(answers))"
      ],
      "id": "eb819fea-d542-4f08-a8dc-a40312bc0d6f",
      "execution_count": 45,
      "outputs": [
        {
          "output_type": "stream",
          "name": "stdout",
          "text": [
            "4\n"
          ]
        }
      ]
    },
    {
      "cell_type": "code",
      "metadata": {
        "id": "25b0ec48-d617-462d-8ee2-3bbf4acbcaa4"
      },
      "source": [
        "weights = [3, 2, 2, 1] # Length of weights must be the same as the number of files"
      ],
      "id": "25b0ec48-d617-462d-8ee2-3bbf4acbcaa4",
      "execution_count": 46,
      "outputs": []
    },
    {
      "cell_type": "code",
      "metadata": {
        "id": "865a18b5-5cea-46c5-8623-9251b6021a60"
      },
      "source": [
        "if len(weights) == len(file_paths):  # weighted voting\n",
        "    final_answers = []\n",
        "    for i in range(len(weights)):\n",
        "        for _ in range(weights[i]):\n",
        "            final_answers.append(answers[i])\n",
        "else:  # non-weighted voting\n",
        "    final_answers = answers"
      ],
      "id": "865a18b5-5cea-46c5-8623-9251b6021a60",
      "execution_count": 47,
      "outputs": []
    },
    {
      "cell_type": "code",
      "metadata": {
        "id": "ef1db900-5ecd-48f1-a540-b1a7f06f5d3f"
      },
      "source": [
        "outputs = pd.DataFrame(list(zip(questions[0], *final_answers)), columns =['questions']+['ans'+str(i) for i in range(1, len(final_answers)+1)])"
      ],
      "id": "ef1db900-5ecd-48f1-a540-b1a7f06f5d3f",
      "execution_count": 48,
      "outputs": []
    },
    {
      "cell_type": "code",
      "metadata": {
        "id": "64bed775-5f9e-49f5-89fe-d840f6656aa7"
      },
      "source": [
        "outputs = outputs.set_index('questions')"
      ],
      "id": "64bed775-5f9e-49f5-89fe-d840f6656aa7",
      "execution_count": 49,
      "outputs": []
    },
    {
      "cell_type": "code",
      "metadata": {
        "colab": {
          "base_uri": "https://localhost:8080/"
        },
        "id": "e01b1442-c54e-49e5-bb45-89f92b31674f",
        "outputId": "e3de10aa-56ab-4eab-c50b-a820e95b8700"
      },
      "source": [
        "print(len(outputs))"
      ],
      "id": "e01b1442-c54e-49e5-bb45-89f92b31674f",
      "execution_count": 50,
      "outputs": [
        {
          "output_type": "stream",
          "name": "stdout",
          "text": [
            "600\n"
          ]
        }
      ]
    },
    {
      "cell_type": "code",
      "metadata": {
        "colab": {
          "base_uri": "https://localhost:8080/",
          "height": 682
        },
        "id": "f505f323-a407-494c-b450-57140eb22bca",
        "outputId": "dfc83448-bdcb-4c30-9905-dac3fe214370"
      },
      "source": [
        "outputs"
      ],
      "id": "f505f323-a407-494c-b450-57140eb22bca",
      "execution_count": 51,
      "outputs": [
        {
          "output_type": "execute_result",
          "data": {
            "text/html": [
              "<div>\n",
              "<style scoped>\n",
              "    .dataframe tbody tr th:only-of-type {\n",
              "        vertical-align: middle;\n",
              "    }\n",
              "\n",
              "    .dataframe tbody tr th {\n",
              "        vertical-align: top;\n",
              "    }\n",
              "\n",
              "    .dataframe thead th {\n",
              "        text-align: right;\n",
              "    }\n",
              "</style>\n",
              "<table border=\"1\" class=\"dataframe\">\n",
              "  <thead>\n",
              "    <tr style=\"text-align: right;\">\n",
              "      <th></th>\n",
              "      <th>ans1</th>\n",
              "      <th>ans2</th>\n",
              "      <th>ans3</th>\n",
              "      <th>ans4</th>\n",
              "      <th>ans5</th>\n",
              "      <th>ans6</th>\n",
              "      <th>ans7</th>\n",
              "      <th>ans8</th>\n",
              "    </tr>\n",
              "    <tr>\n",
              "      <th>questions</th>\n",
              "      <th></th>\n",
              "      <th></th>\n",
              "      <th></th>\n",
              "      <th></th>\n",
              "      <th></th>\n",
              "      <th></th>\n",
              "      <th></th>\n",
              "      <th></th>\n",
              "    </tr>\n",
              "  </thead>\n",
              "  <tbody>\n",
              "    <tr>\n",
              "      <th>mrc-1-000653</th>\n",
              "      <td>사락사라</td>\n",
              "      <td>사락사라</td>\n",
              "      <td>사락사라</td>\n",
              "      <td>지구</td>\n",
              "      <td>지구</td>\n",
              "      <td>지구</td>\n",
              "      <td>지구</td>\n",
              "      <td>사락사라</td>\n",
              "    </tr>\n",
              "    <tr>\n",
              "      <th>mrc-1-001113</th>\n",
              "      <td>냉전 종식</td>\n",
              "      <td>냉전 종식</td>\n",
              "      <td>냉전 종식</td>\n",
              "      <td>냉전</td>\n",
              "      <td>냉전</td>\n",
              "      <td>냉전</td>\n",
              "      <td>냉전</td>\n",
              "      <td>냉전 종식</td>\n",
              "    </tr>\n",
              "    <tr>\n",
              "      <th>mrc-0-002191</th>\n",
              "      <td>빌헬름 미클라스</td>\n",
              "      <td>빌헬름 미클라스</td>\n",
              "      <td>빌헬름 미클라스</td>\n",
              "      <td>빌헬름 미클라스</td>\n",
              "      <td>빌헬름 미클라스</td>\n",
              "      <td>빌헬름 미클라스</td>\n",
              "      <td>빌헬름 미클라스</td>\n",
              "      <td>빌헬름 미클라스</td>\n",
              "    </tr>\n",
              "    <tr>\n",
              "      <th>mrc-0-003951</th>\n",
              "      <td>뉴질랜드</td>\n",
              "      <td>뉴질랜드</td>\n",
              "      <td>뉴질랜드</td>\n",
              "      <td>뉴질랜드</td>\n",
              "      <td>뉴질랜드</td>\n",
              "      <td>뉴질랜드</td>\n",
              "      <td>뉴질랜드</td>\n",
              "      <td>뉴질랜드</td>\n",
              "    </tr>\n",
              "    <tr>\n",
              "      <th>mrc-1-001272</th>\n",
              "      <td>프랑스</td>\n",
              "      <td>프랑스</td>\n",
              "      <td>프랑스</td>\n",
              "      <td>프랑스</td>\n",
              "      <td>프랑스</td>\n",
              "      <td>프랑스</td>\n",
              "      <td>프랑스</td>\n",
              "      <td>프랑스</td>\n",
              "    </tr>\n",
              "    <tr>\n",
              "      <th>...</th>\n",
              "      <td>...</td>\n",
              "      <td>...</td>\n",
              "      <td>...</td>\n",
              "      <td>...</td>\n",
              "      <td>...</td>\n",
              "      <td>...</td>\n",
              "      <td>...</td>\n",
              "      <td>...</td>\n",
              "    </tr>\n",
              "    <tr>\n",
              "      <th>mrc-0-002989</th>\n",
              "      <td>재단 X</td>\n",
              "      <td>재단 X</td>\n",
              "      <td>재단 X</td>\n",
              "      <td>재단 X</td>\n",
              "      <td>재단 X</td>\n",
              "      <td>재단 X</td>\n",
              "      <td>재단 X</td>\n",
              "      <td>재단 X</td>\n",
              "    </tr>\n",
              "    <tr>\n",
              "      <th>mrc-0-001804</th>\n",
              "      <td>자유당계 인사들</td>\n",
              "      <td>자유당계 인사들</td>\n",
              "      <td>자유당계 인사들</td>\n",
              "      <td>자유당계 인사들</td>\n",
              "      <td>자유당계 인사들</td>\n",
              "      <td>자유당계 인사들</td>\n",
              "      <td>자유당계 인사들</td>\n",
              "      <td>자유당계 인사들</td>\n",
              "    </tr>\n",
              "    <tr>\n",
              "      <th>mrc-0-003411</th>\n",
              "      <td>서스펜디드 게임</td>\n",
              "      <td>서스펜디드 게임</td>\n",
              "      <td>서스펜디드 게임</td>\n",
              "      <td>서스펜디드 게임</td>\n",
              "      <td>서스펜디드 게임</td>\n",
              "      <td>서스펜디드 게임</td>\n",
              "      <td>서스펜디드 게임</td>\n",
              "      <td>서스펜디드 게임</td>\n",
              "    </tr>\n",
              "    <tr>\n",
              "      <th>mrc-0-003436</th>\n",
              "      <td>디에프 해변</td>\n",
              "      <td>디에프 해변</td>\n",
              "      <td>디에프 해변</td>\n",
              "      <td>디에프 해변</td>\n",
              "      <td>디에프 해변</td>\n",
              "      <td>디에프 해변</td>\n",
              "      <td>디에프 해변</td>\n",
              "      <td>디에프 해변</td>\n",
              "    </tr>\n",
              "    <tr>\n",
              "      <th>mrc-0-002605</th>\n",
              "      <td>화강석</td>\n",
              "      <td>화강석</td>\n",
              "      <td>화강석</td>\n",
              "      <td>수수께끼의 콘드률</td>\n",
              "      <td>수수께끼의 콘드률</td>\n",
              "      <td>수수께끼의 콘드률</td>\n",
              "      <td>수수께끼의 콘드률</td>\n",
              "      <td>화강</td>\n",
              "    </tr>\n",
              "  </tbody>\n",
              "</table>\n",
              "<p>600 rows × 8 columns</p>\n",
              "</div>"
            ],
            "text/plain": [
              "                  ans1      ans2      ans3  ...       ans6       ans7      ans8\n",
              "questions                                   ...                                \n",
              "mrc-1-000653      사락사라      사락사라      사락사라  ...         지구         지구      사락사라\n",
              "mrc-1-001113     냉전 종식     냉전 종식     냉전 종식  ...         냉전         냉전     냉전 종식\n",
              "mrc-0-002191  빌헬름 미클라스  빌헬름 미클라스  빌헬름 미클라스  ...   빌헬름 미클라스   빌헬름 미클라스  빌헬름 미클라스\n",
              "mrc-0-003951      뉴질랜드      뉴질랜드      뉴질랜드  ...       뉴질랜드       뉴질랜드      뉴질랜드\n",
              "mrc-1-001272       프랑스       프랑스       프랑스  ...        프랑스        프랑스       프랑스\n",
              "...                ...       ...       ...  ...        ...        ...       ...\n",
              "mrc-0-002989      재단 X      재단 X      재단 X  ...       재단 X       재단 X      재단 X\n",
              "mrc-0-001804  자유당계 인사들  자유당계 인사들  자유당계 인사들  ...   자유당계 인사들   자유당계 인사들  자유당계 인사들\n",
              "mrc-0-003411  서스펜디드 게임  서스펜디드 게임  서스펜디드 게임  ...   서스펜디드 게임   서스펜디드 게임  서스펜디드 게임\n",
              "mrc-0-003436    디에프 해변    디에프 해변    디에프 해변  ...     디에프 해변     디에프 해변    디에프 해변\n",
              "mrc-0-002605       화강석       화강석       화강석  ...  수수께끼의 콘드률  수수께끼의 콘드률        화강\n",
              "\n",
              "[600 rows x 8 columns]"
            ]
          },
          "metadata": {},
          "execution_count": 51
        }
      ]
    },
    {
      "cell_type": "code",
      "metadata": {
        "colab": {
          "base_uri": "https://localhost:8080/"
        },
        "id": "b8518759-6c27-4a10-9465-02e3e2f361fa",
        "outputId": "10284e29-7666-4031-b595-ec0fe25bf532"
      },
      "source": [
        "outputs.isnull().sum()"
      ],
      "id": "b8518759-6c27-4a10-9465-02e3e2f361fa",
      "execution_count": 52,
      "outputs": [
        {
          "output_type": "execute_result",
          "data": {
            "text/plain": [
              "ans1    0\n",
              "ans2    0\n",
              "ans3    0\n",
              "ans4    0\n",
              "ans5    0\n",
              "ans6    0\n",
              "ans7    0\n",
              "ans8    0\n",
              "dtype: int64"
            ]
          },
          "metadata": {},
          "execution_count": 52
        }
      ]
    },
    {
      "cell_type": "code",
      "metadata": {
        "colab": {
          "base_uri": "https://localhost:8080/"
        },
        "id": "72b9d5be-9ec8-4789-abeb-91868282c865",
        "outputId": "6034c98b-d7cf-4c37-bb33-90e7125b65d9"
      },
      "source": [
        "outputs.iloc[10]"
      ],
      "id": "72b9d5be-9ec8-4789-abeb-91868282c865",
      "execution_count": 53,
      "outputs": [
        {
          "output_type": "execute_result",
          "data": {
            "text/plain": [
              "ans1    리처드 말킨\n",
              "ans2    리처드 말킨\n",
              "ans3    리처드 말킨\n",
              "ans4       토머스\n",
              "ans5       토머스\n",
              "ans6       점쟁이\n",
              "ans7       점쟁이\n",
              "ans8    리처드 말킨\n",
              "Name: mrc-0-000439, dtype: object"
            ]
          },
          "metadata": {},
          "execution_count": 53
        }
      ]
    },
    {
      "cell_type": "code",
      "metadata": {
        "colab": {
          "base_uri": "https://localhost:8080/"
        },
        "id": "6258606c-f0ae-4a76-add8-dad10e39722d",
        "outputId": "71f7443b-1bc4-4036-92bc-5bd4051cdb64"
      },
      "source": [
        "outputs.iloc[10].value_counts()"
      ],
      "id": "6258606c-f0ae-4a76-add8-dad10e39722d",
      "execution_count": 54,
      "outputs": [
        {
          "output_type": "execute_result",
          "data": {
            "text/plain": [
              "리처드 말킨    4\n",
              "점쟁이       2\n",
              "토머스       2\n",
              "Name: mrc-0-000439, dtype: int64"
            ]
          },
          "metadata": {},
          "execution_count": 54
        }
      ]
    },
    {
      "cell_type": "code",
      "metadata": {
        "id": "224e4ee6-4c3b-43bd-a43c-765b75449674"
      },
      "source": [
        "solutions = []\n",
        "for i in range(len(outputs)):\n",
        "    solutions.append(outputs.iloc[i].value_counts().index[0])"
      ],
      "id": "224e4ee6-4c3b-43bd-a43c-765b75449674",
      "execution_count": 55,
      "outputs": []
    },
    {
      "cell_type": "code",
      "metadata": {
        "colab": {
          "base_uri": "https://localhost:8080/"
        },
        "id": "a04f5e26-6e90-481c-93ad-7ace03c4530c",
        "outputId": "9dc7002d-d5f0-46ca-b468-0ef7002e35dd"
      },
      "source": [
        "print(len(solutions))"
      ],
      "id": "a04f5e26-6e90-481c-93ad-7ace03c4530c",
      "execution_count": 56,
      "outputs": [
        {
          "output_type": "stream",
          "name": "stdout",
          "text": [
            "600\n"
          ]
        }
      ]
    },
    {
      "cell_type": "code",
      "metadata": {
        "id": "49d2521a-58dd-47a8-9c3c-9b909cad59f1"
      },
      "source": [
        "outputs[\"solutions\"]=solutions"
      ],
      "id": "49d2521a-58dd-47a8-9c3c-9b909cad59f1",
      "execution_count": 57,
      "outputs": []
    },
    {
      "cell_type": "code",
      "metadata": {
        "colab": {
          "base_uri": "https://localhost:8080/",
          "height": 682
        },
        "id": "4c5627c7-dc4b-4c64-804a-288c5cc5345b",
        "outputId": "47910ccf-d711-4f72-c458-82e097e378cc"
      },
      "source": [
        "outputs"
      ],
      "id": "4c5627c7-dc4b-4c64-804a-288c5cc5345b",
      "execution_count": 58,
      "outputs": [
        {
          "output_type": "execute_result",
          "data": {
            "text/html": [
              "<div>\n",
              "<style scoped>\n",
              "    .dataframe tbody tr th:only-of-type {\n",
              "        vertical-align: middle;\n",
              "    }\n",
              "\n",
              "    .dataframe tbody tr th {\n",
              "        vertical-align: top;\n",
              "    }\n",
              "\n",
              "    .dataframe thead th {\n",
              "        text-align: right;\n",
              "    }\n",
              "</style>\n",
              "<table border=\"1\" class=\"dataframe\">\n",
              "  <thead>\n",
              "    <tr style=\"text-align: right;\">\n",
              "      <th></th>\n",
              "      <th>ans1</th>\n",
              "      <th>ans2</th>\n",
              "      <th>ans3</th>\n",
              "      <th>ans4</th>\n",
              "      <th>ans5</th>\n",
              "      <th>ans6</th>\n",
              "      <th>ans7</th>\n",
              "      <th>ans8</th>\n",
              "      <th>solutions</th>\n",
              "    </tr>\n",
              "    <tr>\n",
              "      <th>questions</th>\n",
              "      <th></th>\n",
              "      <th></th>\n",
              "      <th></th>\n",
              "      <th></th>\n",
              "      <th></th>\n",
              "      <th></th>\n",
              "      <th></th>\n",
              "      <th></th>\n",
              "      <th></th>\n",
              "    </tr>\n",
              "  </thead>\n",
              "  <tbody>\n",
              "    <tr>\n",
              "      <th>mrc-1-000653</th>\n",
              "      <td>사락사라</td>\n",
              "      <td>사락사라</td>\n",
              "      <td>사락사라</td>\n",
              "      <td>지구</td>\n",
              "      <td>지구</td>\n",
              "      <td>지구</td>\n",
              "      <td>지구</td>\n",
              "      <td>사락사라</td>\n",
              "      <td>지구</td>\n",
              "    </tr>\n",
              "    <tr>\n",
              "      <th>mrc-1-001113</th>\n",
              "      <td>냉전 종식</td>\n",
              "      <td>냉전 종식</td>\n",
              "      <td>냉전 종식</td>\n",
              "      <td>냉전</td>\n",
              "      <td>냉전</td>\n",
              "      <td>냉전</td>\n",
              "      <td>냉전</td>\n",
              "      <td>냉전 종식</td>\n",
              "      <td>냉전 종식</td>\n",
              "    </tr>\n",
              "    <tr>\n",
              "      <th>mrc-0-002191</th>\n",
              "      <td>빌헬름 미클라스</td>\n",
              "      <td>빌헬름 미클라스</td>\n",
              "      <td>빌헬름 미클라스</td>\n",
              "      <td>빌헬름 미클라스</td>\n",
              "      <td>빌헬름 미클라스</td>\n",
              "      <td>빌헬름 미클라스</td>\n",
              "      <td>빌헬름 미클라스</td>\n",
              "      <td>빌헬름 미클라스</td>\n",
              "      <td>빌헬름 미클라스</td>\n",
              "    </tr>\n",
              "    <tr>\n",
              "      <th>mrc-0-003951</th>\n",
              "      <td>뉴질랜드</td>\n",
              "      <td>뉴질랜드</td>\n",
              "      <td>뉴질랜드</td>\n",
              "      <td>뉴질랜드</td>\n",
              "      <td>뉴질랜드</td>\n",
              "      <td>뉴질랜드</td>\n",
              "      <td>뉴질랜드</td>\n",
              "      <td>뉴질랜드</td>\n",
              "      <td>뉴질랜드</td>\n",
              "    </tr>\n",
              "    <tr>\n",
              "      <th>mrc-1-001272</th>\n",
              "      <td>프랑스</td>\n",
              "      <td>프랑스</td>\n",
              "      <td>프랑스</td>\n",
              "      <td>프랑스</td>\n",
              "      <td>프랑스</td>\n",
              "      <td>프랑스</td>\n",
              "      <td>프랑스</td>\n",
              "      <td>프랑스</td>\n",
              "      <td>프랑스</td>\n",
              "    </tr>\n",
              "    <tr>\n",
              "      <th>...</th>\n",
              "      <td>...</td>\n",
              "      <td>...</td>\n",
              "      <td>...</td>\n",
              "      <td>...</td>\n",
              "      <td>...</td>\n",
              "      <td>...</td>\n",
              "      <td>...</td>\n",
              "      <td>...</td>\n",
              "      <td>...</td>\n",
              "    </tr>\n",
              "    <tr>\n",
              "      <th>mrc-0-002989</th>\n",
              "      <td>재단 X</td>\n",
              "      <td>재단 X</td>\n",
              "      <td>재단 X</td>\n",
              "      <td>재단 X</td>\n",
              "      <td>재단 X</td>\n",
              "      <td>재단 X</td>\n",
              "      <td>재단 X</td>\n",
              "      <td>재단 X</td>\n",
              "      <td>재단 X</td>\n",
              "    </tr>\n",
              "    <tr>\n",
              "      <th>mrc-0-001804</th>\n",
              "      <td>자유당계 인사들</td>\n",
              "      <td>자유당계 인사들</td>\n",
              "      <td>자유당계 인사들</td>\n",
              "      <td>자유당계 인사들</td>\n",
              "      <td>자유당계 인사들</td>\n",
              "      <td>자유당계 인사들</td>\n",
              "      <td>자유당계 인사들</td>\n",
              "      <td>자유당계 인사들</td>\n",
              "      <td>자유당계 인사들</td>\n",
              "    </tr>\n",
              "    <tr>\n",
              "      <th>mrc-0-003411</th>\n",
              "      <td>서스펜디드 게임</td>\n",
              "      <td>서스펜디드 게임</td>\n",
              "      <td>서스펜디드 게임</td>\n",
              "      <td>서스펜디드 게임</td>\n",
              "      <td>서스펜디드 게임</td>\n",
              "      <td>서스펜디드 게임</td>\n",
              "      <td>서스펜디드 게임</td>\n",
              "      <td>서스펜디드 게임</td>\n",
              "      <td>서스펜디드 게임</td>\n",
              "    </tr>\n",
              "    <tr>\n",
              "      <th>mrc-0-003436</th>\n",
              "      <td>디에프 해변</td>\n",
              "      <td>디에프 해변</td>\n",
              "      <td>디에프 해변</td>\n",
              "      <td>디에프 해변</td>\n",
              "      <td>디에프 해변</td>\n",
              "      <td>디에프 해변</td>\n",
              "      <td>디에프 해변</td>\n",
              "      <td>디에프 해변</td>\n",
              "      <td>디에프 해변</td>\n",
              "    </tr>\n",
              "    <tr>\n",
              "      <th>mrc-0-002605</th>\n",
              "      <td>화강석</td>\n",
              "      <td>화강석</td>\n",
              "      <td>화강석</td>\n",
              "      <td>수수께끼의 콘드률</td>\n",
              "      <td>수수께끼의 콘드률</td>\n",
              "      <td>수수께끼의 콘드률</td>\n",
              "      <td>수수께끼의 콘드률</td>\n",
              "      <td>화강</td>\n",
              "      <td>수수께끼의 콘드률</td>\n",
              "    </tr>\n",
              "  </tbody>\n",
              "</table>\n",
              "<p>600 rows × 9 columns</p>\n",
              "</div>"
            ],
            "text/plain": [
              "                  ans1      ans2      ans3  ...       ans7      ans8  solutions\n",
              "questions                                   ...                                \n",
              "mrc-1-000653      사락사라      사락사라      사락사라  ...         지구      사락사라         지구\n",
              "mrc-1-001113     냉전 종식     냉전 종식     냉전 종식  ...         냉전     냉전 종식      냉전 종식\n",
              "mrc-0-002191  빌헬름 미클라스  빌헬름 미클라스  빌헬름 미클라스  ...   빌헬름 미클라스  빌헬름 미클라스   빌헬름 미클라스\n",
              "mrc-0-003951      뉴질랜드      뉴질랜드      뉴질랜드  ...       뉴질랜드      뉴질랜드       뉴질랜드\n",
              "mrc-1-001272       프랑스       프랑스       프랑스  ...        프랑스       프랑스        프랑스\n",
              "...                ...       ...       ...  ...        ...       ...        ...\n",
              "mrc-0-002989      재단 X      재단 X      재단 X  ...       재단 X      재단 X       재단 X\n",
              "mrc-0-001804  자유당계 인사들  자유당계 인사들  자유당계 인사들  ...   자유당계 인사들  자유당계 인사들   자유당계 인사들\n",
              "mrc-0-003411  서스펜디드 게임  서스펜디드 게임  서스펜디드 게임  ...   서스펜디드 게임  서스펜디드 게임   서스펜디드 게임\n",
              "mrc-0-003436    디에프 해변    디에프 해변    디에프 해변  ...     디에프 해변    디에프 해변     디에프 해변\n",
              "mrc-0-002605       화강석       화강석       화강석  ...  수수께끼의 콘드률        화강  수수께끼의 콘드률\n",
              "\n",
              "[600 rows x 9 columns]"
            ]
          },
          "metadata": {},
          "execution_count": 58
        }
      ]
    },
    {
      "cell_type": "code",
      "metadata": {
        "id": "d945ac0f-6a57-49b9-9544-97e61657f98f"
      },
      "source": [
        "final_output = outputs[\"solutions\"]"
      ],
      "id": "d945ac0f-6a57-49b9-9544-97e61657f98f",
      "execution_count": 59,
      "outputs": []
    },
    {
      "cell_type": "code",
      "metadata": {
        "colab": {
          "base_uri": "https://localhost:8080/"
        },
        "id": "c4fae027-ed57-4968-a805-78b549e0342f",
        "outputId": "3db9ed0f-5df1-4603-b4bb-ef7c7035c8c7"
      },
      "source": [
        "final_output"
      ],
      "id": "c4fae027-ed57-4968-a805-78b549e0342f",
      "execution_count": 60,
      "outputs": [
        {
          "output_type": "execute_result",
          "data": {
            "text/plain": [
              "questions\n",
              "mrc-1-000653           지구\n",
              "mrc-1-001113        냉전 종식\n",
              "mrc-0-002191     빌헬름 미클라스\n",
              "mrc-0-003951         뉴질랜드\n",
              "mrc-1-001272          프랑스\n",
              "                  ...    \n",
              "mrc-0-002989         재단 X\n",
              "mrc-0-001804     자유당계 인사들\n",
              "mrc-0-003411     서스펜디드 게임\n",
              "mrc-0-003436       디에프 해변\n",
              "mrc-0-002605    수수께끼의 콘드률\n",
              "Name: solutions, Length: 600, dtype: object"
            ]
          },
          "metadata": {},
          "execution_count": 60
        }
      ]
    },
    {
      "cell_type": "code",
      "metadata": {
        "id": "060bc98d-9577-41e0-b393-1e1aa09f65a8"
      },
      "source": [
        "final_output.to_json('final_output.json', indent = 4, force_ascii=False)"
      ],
      "id": "060bc98d-9577-41e0-b393-1e1aa09f65a8",
      "execution_count": 61,
      "outputs": []
    },
    {
      "cell_type": "code",
      "metadata": {
        "id": "f662a7f5-249e-4911-9d14-d952dddbf6c0"
      },
      "source": [
        "final_output.to_json('final_output.csv', indent = 4, force_ascii=False)"
      ],
      "id": "f662a7f5-249e-4911-9d14-d952dddbf6c0",
      "execution_count": 62,
      "outputs": []
    },
    {
      "cell_type": "code",
      "metadata": {
        "id": "e22aea83-600b-49f4-ae28-c48d36b8f88f"
      },
      "source": [
        ""
      ],
      "id": "e22aea83-600b-49f4-ae28-c48d36b8f88f",
      "execution_count": 62,
      "outputs": []
    }
  ]
}